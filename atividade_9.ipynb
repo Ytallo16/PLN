{
 "cells": [
  {
   "cell_type": "markdown",
   "metadata": {},
   "source": [
    "Trabalho 9 de PLN"
   ]
  },
  {
   "cell_type": "code",
   "execution_count": 6,
   "metadata": {},
   "outputs": [
    {
     "name": "stdout",
     "output_type": "stream",
     "text": [
      "Defaulting to user installation because normal site-packages is not writeable\n",
      "Requirement already satisfied: pypdf2 in /home/ytallomendes/.local/lib/python3.10/site-packages (3.0.1)\n",
      "Note: you may need to restart the kernel to use updated packages.\n"
     ]
    }
   ],
   "source": [
    "pip install pypdf2\n"
   ]
  },
  {
   "cell_type": "code",
   "execution_count": 4,
   "metadata": {},
   "outputs": [
    {
     "name": "stdout",
     "output_type": "stream",
     "text": [
      "PDF combinado salvo como arquivo_combinado.pdf\n"
     ]
    }
   ],
   "source": [
    "import os\n",
    "from PyPDF2 import PdfMerger\n",
    "\n",
    "# Diretório onde estão os arquivos PDF\n",
    "pdf_dir = \"incidents\"\n",
    "output_file = \"arquivo_combinado.pdf\"\n",
    "\n",
    "# Inicialize o PdfMerger\n",
    "merger = PdfMerger()\n",
    "\n",
    "# Liste e ordene os arquivos PDF no diretório\n",
    "pdf_files = [f for f in os.listdir(pdf_dir) if f.endswith('.pdf')]\n",
    "pdf_files.sort()\n",
    "\n",
    "# Adicione cada PDF ao merger\n",
    "for pdf in pdf_files:\n",
    "    pdf_path = os.path.join(pdf_dir, pdf)\n",
    "    merger.append(pdf_path)\n",
    "\n",
    "# Salve o PDF combinado\n",
    "merger.write(output_file)\n",
    "merger.close()\n",
    "\n",
    "print(f\"PDF combinado salvo como {output_file}\")\n"
   ]
  },
  {
   "cell_type": "markdown",
   "metadata": {},
   "source": [
    "Comprimindo arquivos pdf"
   ]
  },
  {
   "cell_type": "code",
   "execution_count": 8,
   "metadata": {},
   "outputs": [
    {
     "name": "stdout",
     "output_type": "stream",
     "text": [
      "Defaulting to user installation because normal site-packages is not writeable\n",
      "Collecting pymupdf\n",
      "  Downloading PyMuPDF-1.24.14-cp39-abi3-manylinux2014_x86_64.manylinux_2_17_x86_64.whl (19.8 MB)\n",
      "\u001b[2K     \u001b[90m━━━━━━━━━━━━━━━━━━━━━━━━━━━━━━━━━━━━━━━\u001b[0m \u001b[32m19.8/19.8 MB\u001b[0m \u001b[31m928.0 kB/s\u001b[0m eta \u001b[36m0:00:00\u001b[0m00:01\u001b[0m00:01\u001b[0m\n",
      "\u001b[?25hInstalling collected packages: pymupdf\n",
      "Successfully installed pymupdf-1.24.14\n",
      "Note: you may need to restart the kernel to use updated packages.\n"
     ]
    }
   ],
   "source": [
    "pip install pymupdf\n"
   ]
  },
  {
   "cell_type": "code",
   "execution_count": null,
   "metadata": {},
   "outputs": [],
   "source": [
    "import fitz  # PyMuPDF\n",
    "\n",
    "def compress_pdf(input_path, output_path, dpi=144):\n",
    "    # Abrir o PDF\n",
    "    pdf = fitz.open(input_path)\n",
    "    \n",
    "    # Configurações de compressão\n",
    "    compressed_pdf = fitz.open()  # Novo documento\n",
    "    for page_number in range(len(pdf)):\n",
    "        page = pdf[page_number]\n",
    "        pix = page.get_pixmap(dpi=dpi)  # Reduz DPI das imagens\n",
    "        compressed_pdf.new_page(width=pix.width, height=pix.height)\n",
    "        compressed_pdf[-1].insert_image(fitz.Rect(0, 0, pix.width, pix.height), pixmap=pix)\n",
    "    \n",
    "    # Salvar o novo PDF comprimido\n",
    "    compressed_pdf.save(output_path)\n",
    "    compressed_pdf.close()\n",
    "    pdf.close()\n",
    "\n",
    "# Exemplo de uso\n",
    "input_pdf = \"arquivo_combinado.pdf\"\n",
    "output_pdf = \"compressed.pdf\"\n",
    "compress_pdf(input_pdf, output_pdf)\n"
   ]
  }
 ],
 "metadata": {
  "kernelspec": {
   "display_name": "Python 3",
   "language": "python",
   "name": "python3"
  },
  "language_info": {
   "codemirror_mode": {
    "name": "ipython",
    "version": 3
   },
   "file_extension": ".py",
   "mimetype": "text/x-python",
   "name": "python",
   "nbconvert_exporter": "python",
   "pygments_lexer": "ipython3",
   "version": "3.10.12"
  }
 },
 "nbformat": 4,
 "nbformat_minor": 2
}
