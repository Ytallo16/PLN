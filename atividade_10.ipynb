{
 "cells": [
  {
   "cell_type": "code",
   "execution_count": null,
   "metadata": {},
   "outputs": [
    {
     "name": "stdout",
     "output_type": "stream",
     "text": [
      "Collecting PyPDF2\n",
      "  Downloading pypdf2-3.0.1-py3-none-any.whl.metadata (6.8 kB)\n",
      "Downloading pypdf2-3.0.1-py3-none-any.whl (232 kB)\n",
      "Installing collected packages: PyPDF2\n",
      "Successfully installed PyPDF2-3.0.1\n",
      "Note: you may need to restart the kernel to use updated packages.\n"
     ]
    }
   ],
   "source": [
    "!pip install PyPDF2 nltk scikit-learn matplotlib"
   ]
  },
  {
   "cell_type": "code",
   "execution_count": null,
   "metadata": {},
   "outputs": [
    {
     "ename": "ModuleNotFoundError",
     "evalue": "No module named 'nltk'",
     "output_type": "error",
     "traceback": [
      "\u001b[0;31m---------------------------------------------------------------------------\u001b[0m",
      "\u001b[0;31mModuleNotFoundError\u001b[0m                       Traceback (most recent call last)",
      "Cell \u001b[0;32mIn[8], line 2\u001b[0m\n\u001b[1;32m      1\u001b[0m \u001b[38;5;28;01mimport\u001b[39;00m \u001b[38;5;21;01mPyPDF2\u001b[39;00m\n\u001b[0;32m----> 2\u001b[0m \u001b[38;5;28;01mimport\u001b[39;00m \u001b[38;5;21;01mnltk\u001b[39;00m\n\u001b[1;32m      3\u001b[0m \u001b[38;5;28;01mfrom\u001b[39;00m \u001b[38;5;21;01mnltk\u001b[39;00m\u001b[38;5;21;01m.\u001b[39;00m\u001b[38;5;21;01mcorpus\u001b[39;00m \u001b[38;5;28;01mimport\u001b[39;00m stopwords\n\u001b[1;32m      4\u001b[0m \u001b[38;5;28;01mfrom\u001b[39;00m \u001b[38;5;21;01mnltk\u001b[39;00m\u001b[38;5;21;01m.\u001b[39;00m\u001b[38;5;21;01mtokenize\u001b[39;00m \u001b[38;5;28;01mimport\u001b[39;00m word_tokenize\n",
      "\u001b[0;31mModuleNotFoundError\u001b[0m: No module named 'nltk'"
     ]
    }
   ],
   "source": [
    "import PyPDF2\n",
    "import nltk\n",
    "from nltk.corpus import stopwords\n",
    "from nltk.tokenize import word_tokenize\n",
    "from sklearn.feature_extraction.text import TfidfVectorizer\n",
    "import string\n",
    "import numpy as np\n",
    "import matplotlib.pyplot as plt\n",
    "\n",
    "# Download necessary NLTK data\n",
    "nltk.download('punkt')\n",
    "nltk.download('stopwords')"
   ]
  },
  {
   "cell_type": "code",
   "execution_count": null,
   "metadata": {},
   "outputs": [],
   "source": [
    "def read_pdf(pdf_path):\n",
    "    with open(pdf_path, 'rb') as file:\n",
    "        reader = PyPDF2.PdfReader(file)\n",
    "        text = ''\n",
    "        for page in reader.pages:\n",
    "            text += page.extract_text()\n",
    "    return text\n",
    "\n",
    "def preprocess_text(text):\n",
    "    # Tokenize and lowercase\n",
    "    tokens = word_tokenize(text.lower())\n",
    "\n",
    "    # Remove punctuation\n",
    "    tokens = [token for token in tokens if token not in string.punctuation]\n",
    "\n",
    "    # Remove stop words and 'cars'\n",
    "    stop_words = set(stopwords.words('portuguese'))\n",
    "    stop_words.add('cars')\n",
    "    tokens = [token for token in tokens if token not in stop_words]\n",
    "\n",
    "    return tokens\n",
    "\n",
    "def calculate_tfidf(processed_text):\n",
    "    vectorizer = TfidfVectorizer()\n",
    "    tfidf_matrix = vectorizer.fit_transform([processed_text])\n",
    "    feature_names = vectorizer.get_feature_names_out()\n",
    "    tfidf_scores = dict(zip(feature_names, tfidf_matrix.toarray()[0]))\n",
    "    return tfidf_scores\n",
    "\n",
    "def preprocess_pdf(text):\n",
    "    # Preprocess text\n",
    "    tokens = preprocess_text(text)\n",
    "\n",
    "    # Print word count\n",
    "    print(f\"Total de palavras após pré-processamento: {len(tokens)}\")\n",
    "\n",
    "    # Join tokens back into a string for TF-IDF\n",
    "    processed_text = ' '.join(tokens)\n",
    "\n",
    "    # Calculate TF-IDF\n",
    "    tfidf_scores = calculate_tfidf(processed_text)\n",
    "\n",
    "    # Sort words by TF-IDF score\n",
    "    sorted_words = sorted(tfidf_scores.items(), key=lambda x: x[1], reverse=True)\n",
    "\n",
    "    # Print top 10 words by TF-IDF score\n",
    "    print(\"\\nTop 10 palavras por pontuação TF-IDF:\")\n",
    "    for word, score in sorted_words[:10]:\n",
    "        print(f\"{word}: {score}\")\n",
    "\n",
    "    return tokens, tfidf_scores"
   ]
  },
  {
   "cell_type": "code",
   "execution_count": null,
   "metadata": {},
   "outputs": [],
   "source": [
    "# Carregamento do arquivo PDF\n",
    "pdf_path = 'seu_arquivo.pdf'  # Substitua pelo caminho do seu arquivo PDF\n",
    "pdf_text = read_pdf(pdf_path)\n",
    "\n",
    "# Pré-processamento do texto do PDF\n",
    "tokens, tfidf_scores = preprocess_pdf(pdf_text)"
   ]
  },
  {
   "cell_type": "code",
   "execution_count": null,
   "metadata": {},
   "outputs": [],
   "source": [
    "# Pegar as 20 palavras mais importantes\n",
    "top_words = sorted(tfidf_scores.items(), key=lambda x: x[1], reverse=True)[:20]\n",
    "words, scores = zip(*top_words)\n",
    "\n",
    "plt.figure(figsize=(12, 6))\n",
    "plt.bar(words, scores)\n",
    "plt.xticks(rotation=45, ha='right')\n",
    "plt.title('Top 20 Palavras por Pontuação TF-IDF')\n",
    "plt.xlabel('Palavras')\n",
    "plt.ylabel('Pontuação TF-IDF')\n",
    "plt.tight_layout()\n",
    "plt.show()"
   ]
  }
 ],
 "metadata": {
  "kernelspec": {
   "display_name": ".venv",
   "language": "python",
   "name": "python3"
  },
  "language_info": {
   "codemirror_mode": {
    "name": "ipython",
    "version": 3
   },
   "file_extension": ".py",
   "mimetype": "text/x-python",
   "name": "python",
   "nbconvert_exporter": "python",
   "pygments_lexer": "ipython3",
   "version": "3.12.3"
  }
 },
 "nbformat": 4,
 "nbformat_minor": 2
}
